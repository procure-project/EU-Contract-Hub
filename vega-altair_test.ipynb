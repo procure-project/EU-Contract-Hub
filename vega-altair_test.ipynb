{
 "cells": [
  {
   "cell_type": "code",
   "id": "initial_id",
   "metadata": {
    "collapsed": true,
    "ExecuteTime": {
     "end_time": "2024-11-12T17:47:46.459188Z",
     "start_time": "2024-11-12T17:47:44.907475Z"
    }
   },
   "source": [
    "import pandas as pd\n",
    "import altair as alt"
   ],
   "outputs": [],
   "execution_count": 1
  },
  {
   "metadata": {
    "ExecuteTime": {
     "end_time": "2024-11-12T17:47:46.480710Z",
     "start_time": "2024-11-12T17:47:46.473190Z"
    }
   },
   "cell_type": "code",
   "source": [
    "data = {\n",
    "    \"procurement_routes\": [\n",
    "        {\"key\": \"Direct Procurement\", \"cpv_histogram\": [\n",
    "            {\"key\": 0, \"doc_count\": 56344}, {\"key\": 10000000, \"doc_count\": 61026},\n",
    "            {\"key\": 20000000, \"doc_count\": 22798}, {\"key\": 30000000, \"doc_count\": 408915},\n",
    "            {\"key\": 40000000, \"doc_count\": 295593}, {\"key\": 50000000, \"doc_count\": 87426},\n",
    "            {\"key\": 60000000, \"doc_count\": 90188}, {\"key\": 70000000, \"doc_count\": 325144},\n",
    "            {\"key\": 80000000, \"doc_count\": 61264}, {\"key\": 90000000, \"doc_count\": 118533}\n",
    "        ]},\n",
    "        {\"key\": \"Joint Procurement\", \"cpv_histogram\": [\n",
    "            {\"key\": 0, \"doc_count\": 5267}, {\"key\": 10000000, \"doc_count\": 2777},\n",
    "            {\"key\": 20000000, \"doc_count\": 923}, {\"key\": 30000000, \"doc_count\": 13904},\n",
    "            {\"key\": 40000000, \"doc_count\": 6462}, {\"key\": 50000000, \"doc_count\": 2901},\n",
    "            {\"key\": 60000000, \"doc_count\": 5165}, {\"key\": 70000000, \"doc_count\": 8457},\n",
    "            {\"key\": 80000000, \"doc_count\": 1182}, {\"key\": 90000000, \"doc_count\": 2944}\n",
    "        ]},\n",
    "        # Add the rest of the procurement routes in a similar fashion...\n",
    "    ]\n",
    "}"
   ],
   "id": "b066b88e758f0073",
   "outputs": [],
   "execution_count": 2
  },
  {
   "metadata": {
    "ExecuteTime": {
     "end_time": "2024-11-12T17:56:00.456303Z",
     "start_time": "2024-11-12T17:56:00.437247Z"
    }
   },
   "cell_type": "code",
   "source": [
    "records = []\n",
    "for route in data[\"procurement_routes\"]:\n",
    "    route_name = route[\"key\"]\n",
    "    for bucket in route[\"cpv_histogram\"]:\n",
    "        records.append({\n",
    "            \"procurement_route\": route_name,\n",
    "            \"cpv_bin\": bucket[\"key\"],\n",
    "            \"doc_count\": bucket[\"doc_count\"]\n",
    "        })\n",
    "\n",
    "# Create a DataFrame\n",
    "df = pd.DataFrame(records)\n",
    "\n",
    "# Create the Altair plot\n",
    "chart = alt.Chart(df).mark_area().encode(\n",
    "    alt.X(\"cpv_bin:Q\", bin=alt.Bin(step=10000000), title=\"CPV Histogram\"),\n",
    "    alt.Y(\"doc_count:Q\", title=\"Density\"),\n",
    "    alt.Row(\"procurement_route:N\", title=\"Procurement Route\")\n",
    ").properties(\n",
    "    width=400,\n",
    "    height=100\n",
    ")\n",
    "\n",
    "chart"
   ],
   "id": "6d6850c1eece5180",
   "outputs": [
    {
     "data": {
      "text/html": [
       "\n",
       "<style>\n",
       "  #altair-viz-c4307289d5f04bb985a5a58096748037.vega-embed {\n",
       "    width: 100%;\n",
       "    display: flex;\n",
       "  }\n",
       "\n",
       "  #altair-viz-c4307289d5f04bb985a5a58096748037.vega-embed details,\n",
       "  #altair-viz-c4307289d5f04bb985a5a58096748037.vega-embed details summary {\n",
       "    position: relative;\n",
       "  }\n",
       "</style>\n",
       "<div id=\"altair-viz-c4307289d5f04bb985a5a58096748037\"></div>\n",
       "<script type=\"text/javascript\">\n",
       "  var VEGA_DEBUG = (typeof VEGA_DEBUG == \"undefined\") ? {} : VEGA_DEBUG;\n",
       "  (function(spec, embedOpt){\n",
       "    let outputDiv = document.currentScript.previousElementSibling;\n",
       "    if (outputDiv.id !== \"altair-viz-c4307289d5f04bb985a5a58096748037\") {\n",
       "      outputDiv = document.getElementById(\"altair-viz-c4307289d5f04bb985a5a58096748037\");\n",
       "    }\n",
       "    const paths = {\n",
       "      \"vega\": \"https://cdn.jsdelivr.net/npm/vega@5?noext\",\n",
       "      \"vega-lib\": \"https://cdn.jsdelivr.net/npm/vega-lib?noext\",\n",
       "      \"vega-lite\": \"https://cdn.jsdelivr.net/npm/vega-lite@5.20.1?noext\",\n",
       "      \"vega-embed\": \"https://cdn.jsdelivr.net/npm/vega-embed@6?noext\",\n",
       "    };\n",
       "\n",
       "    function maybeLoadScript(lib, version) {\n",
       "      var key = `${lib.replace(\"-\", \"\")}_version`;\n",
       "      return (VEGA_DEBUG[key] == version) ?\n",
       "        Promise.resolve(paths[lib]) :\n",
       "        new Promise(function(resolve, reject) {\n",
       "          var s = document.createElement('script');\n",
       "          document.getElementsByTagName(\"head\")[0].appendChild(s);\n",
       "          s.async = true;\n",
       "          s.onload = () => {\n",
       "            VEGA_DEBUG[key] = version;\n",
       "            return resolve(paths[lib]);\n",
       "          };\n",
       "          s.onerror = () => reject(`Error loading script: ${paths[lib]}`);\n",
       "          s.src = paths[lib];\n",
       "        });\n",
       "    }\n",
       "\n",
       "    function showError(err) {\n",
       "      outputDiv.innerHTML = `<div class=\"error\" style=\"color:red;\">${err}</div>`;\n",
       "      throw err;\n",
       "    }\n",
       "\n",
       "    function displayChart(vegaEmbed) {\n",
       "      vegaEmbed(outputDiv, spec, embedOpt)\n",
       "        .catch(err => showError(`Javascript Error: ${err.message}<br>This usually means there's a typo in your chart specification. See the javascript console for the full traceback.`));\n",
       "    }\n",
       "\n",
       "    if(typeof define === \"function\" && define.amd) {\n",
       "      requirejs.config({paths});\n",
       "      require([\"vega-embed\"], displayChart, err => showError(`Error loading script: ${err.message}`));\n",
       "    } else {\n",
       "      maybeLoadScript(\"vega\", \"5\")\n",
       "        .then(() => maybeLoadScript(\"vega-lite\", \"5.20.1\"))\n",
       "        .then(() => maybeLoadScript(\"vega-embed\", \"6\"))\n",
       "        .catch(showError)\n",
       "        .then(() => displayChart(vegaEmbed));\n",
       "    }\n",
       "  })({\"config\": {\"view\": {\"continuousWidth\": 300, \"continuousHeight\": 300}}, \"data\": {\"name\": \"data-cc5e703b9eed67bfbebac43962d603dc\"}, \"mark\": {\"type\": \"area\"}, \"encoding\": {\"row\": {\"field\": \"procurement_route\", \"title\": \"Procurement Route\", \"type\": \"nominal\"}, \"x\": {\"bin\": {\"step\": 1000000}, \"field\": \"cpv_bin\", \"title\": \"CPV Histogram\", \"type\": \"quantitative\"}, \"y\": {\"field\": \"doc_count\", \"title\": \"Density\", \"type\": \"quantitative\"}}, \"height\": 100, \"width\": 400, \"$schema\": \"https://vega.github.io/schema/vega-lite/v5.20.1.json\", \"datasets\": {\"data-cc5e703b9eed67bfbebac43962d603dc\": [{\"procurement_route\": \"Direct Procurement\", \"cpv_bin\": 0, \"doc_count\": 56344}, {\"procurement_route\": \"Direct Procurement\", \"cpv_bin\": 10000000, \"doc_count\": 61026}, {\"procurement_route\": \"Direct Procurement\", \"cpv_bin\": 20000000, \"doc_count\": 22798}, {\"procurement_route\": \"Direct Procurement\", \"cpv_bin\": 30000000, \"doc_count\": 408915}, {\"procurement_route\": \"Direct Procurement\", \"cpv_bin\": 40000000, \"doc_count\": 295593}, {\"procurement_route\": \"Direct Procurement\", \"cpv_bin\": 50000000, \"doc_count\": 87426}, {\"procurement_route\": \"Direct Procurement\", \"cpv_bin\": 60000000, \"doc_count\": 90188}, {\"procurement_route\": \"Direct Procurement\", \"cpv_bin\": 70000000, \"doc_count\": 325144}, {\"procurement_route\": \"Direct Procurement\", \"cpv_bin\": 80000000, \"doc_count\": 61264}, {\"procurement_route\": \"Direct Procurement\", \"cpv_bin\": 90000000, \"doc_count\": 118533}, {\"procurement_route\": \"Joint Procurement\", \"cpv_bin\": 0, \"doc_count\": 5267}, {\"procurement_route\": \"Joint Procurement\", \"cpv_bin\": 10000000, \"doc_count\": 2777}, {\"procurement_route\": \"Joint Procurement\", \"cpv_bin\": 20000000, \"doc_count\": 923}, {\"procurement_route\": \"Joint Procurement\", \"cpv_bin\": 30000000, \"doc_count\": 13904}, {\"procurement_route\": \"Joint Procurement\", \"cpv_bin\": 40000000, \"doc_count\": 6462}, {\"procurement_route\": \"Joint Procurement\", \"cpv_bin\": 50000000, \"doc_count\": 2901}, {\"procurement_route\": \"Joint Procurement\", \"cpv_bin\": 60000000, \"doc_count\": 5165}, {\"procurement_route\": \"Joint Procurement\", \"cpv_bin\": 70000000, \"doc_count\": 8457}, {\"procurement_route\": \"Joint Procurement\", \"cpv_bin\": 80000000, \"doc_count\": 1182}, {\"procurement_route\": \"Joint Procurement\", \"cpv_bin\": 90000000, \"doc_count\": 2944}]}}, {\"mode\": \"vega-lite\"});\n",
       "</script>"
      ],
      "text/plain": [
       "alt.Chart(...)"
      ]
     },
     "execution_count": 13,
     "metadata": {},
     "output_type": "execute_result"
    }
   ],
   "execution_count": 13
  },
  {
   "metadata": {
    "ExecuteTime": {
     "end_time": "2024-11-12T17:59:24.860281Z",
     "start_time": "2024-11-12T17:59:24.838775Z"
    }
   },
   "cell_type": "code",
   "source": [
    "alt.Chart(df).mark_area().encode(\n",
    "    alt.X(\"cpv_bin:Q\", bin=alt.Bin(step=10000000), title=\"CPV Histogram\"),\n",
    "    alt.Y(\"doc_count:Q\").stack(\"center\"),\n",
    "    alt.Color(\"procurement_route:N\").scale(scheme=\"category10\"),\n",
    ")"
   ],
   "id": "5960b9d97da37a68",
   "outputs": [
    {
     "data": {
      "text/html": [
       "\n",
       "<style>\n",
       "  #altair-viz-601fe25e6ab94404ade98a4d01143ebb.vega-embed {\n",
       "    width: 100%;\n",
       "    display: flex;\n",
       "  }\n",
       "\n",
       "  #altair-viz-601fe25e6ab94404ade98a4d01143ebb.vega-embed details,\n",
       "  #altair-viz-601fe25e6ab94404ade98a4d01143ebb.vega-embed details summary {\n",
       "    position: relative;\n",
       "  }\n",
       "</style>\n",
       "<div id=\"altair-viz-601fe25e6ab94404ade98a4d01143ebb\"></div>\n",
       "<script type=\"text/javascript\">\n",
       "  var VEGA_DEBUG = (typeof VEGA_DEBUG == \"undefined\") ? {} : VEGA_DEBUG;\n",
       "  (function(spec, embedOpt){\n",
       "    let outputDiv = document.currentScript.previousElementSibling;\n",
       "    if (outputDiv.id !== \"altair-viz-601fe25e6ab94404ade98a4d01143ebb\") {\n",
       "      outputDiv = document.getElementById(\"altair-viz-601fe25e6ab94404ade98a4d01143ebb\");\n",
       "    }\n",
       "    const paths = {\n",
       "      \"vega\": \"https://cdn.jsdelivr.net/npm/vega@5?noext\",\n",
       "      \"vega-lib\": \"https://cdn.jsdelivr.net/npm/vega-lib?noext\",\n",
       "      \"vega-lite\": \"https://cdn.jsdelivr.net/npm/vega-lite@5.20.1?noext\",\n",
       "      \"vega-embed\": \"https://cdn.jsdelivr.net/npm/vega-embed@6?noext\",\n",
       "    };\n",
       "\n",
       "    function maybeLoadScript(lib, version) {\n",
       "      var key = `${lib.replace(\"-\", \"\")}_version`;\n",
       "      return (VEGA_DEBUG[key] == version) ?\n",
       "        Promise.resolve(paths[lib]) :\n",
       "        new Promise(function(resolve, reject) {\n",
       "          var s = document.createElement('script');\n",
       "          document.getElementsByTagName(\"head\")[0].appendChild(s);\n",
       "          s.async = true;\n",
       "          s.onload = () => {\n",
       "            VEGA_DEBUG[key] = version;\n",
       "            return resolve(paths[lib]);\n",
       "          };\n",
       "          s.onerror = () => reject(`Error loading script: ${paths[lib]}`);\n",
       "          s.src = paths[lib];\n",
       "        });\n",
       "    }\n",
       "\n",
       "    function showError(err) {\n",
       "      outputDiv.innerHTML = `<div class=\"error\" style=\"color:red;\">${err}</div>`;\n",
       "      throw err;\n",
       "    }\n",
       "\n",
       "    function displayChart(vegaEmbed) {\n",
       "      vegaEmbed(outputDiv, spec, embedOpt)\n",
       "        .catch(err => showError(`Javascript Error: ${err.message}<br>This usually means there's a typo in your chart specification. See the javascript console for the full traceback.`));\n",
       "    }\n",
       "\n",
       "    if(typeof define === \"function\" && define.amd) {\n",
       "      requirejs.config({paths});\n",
       "      require([\"vega-embed\"], displayChart, err => showError(`Error loading script: ${err.message}`));\n",
       "    } else {\n",
       "      maybeLoadScript(\"vega\", \"5\")\n",
       "        .then(() => maybeLoadScript(\"vega-lite\", \"5.20.1\"))\n",
       "        .then(() => maybeLoadScript(\"vega-embed\", \"6\"))\n",
       "        .catch(showError)\n",
       "        .then(() => displayChart(vegaEmbed));\n",
       "    }\n",
       "  })({\"config\": {\"view\": {\"continuousWidth\": 300, \"continuousHeight\": 300}}, \"data\": {\"name\": \"data-cc5e703b9eed67bfbebac43962d603dc\"}, \"mark\": {\"type\": \"area\"}, \"encoding\": {\"color\": {\"field\": \"procurement_route\", \"scale\": {\"scheme\": \"category10\"}, \"type\": \"nominal\"}, \"x\": {\"bin\": {\"step\": 10000000}, \"field\": \"cpv_bin\", \"title\": \"CPV Histogram\", \"type\": \"quantitative\"}, \"y\": {\"field\": \"doc_count\", \"stack\": \"center\", \"type\": \"quantitative\"}}, \"$schema\": \"https://vega.github.io/schema/vega-lite/v5.20.1.json\", \"datasets\": {\"data-cc5e703b9eed67bfbebac43962d603dc\": [{\"procurement_route\": \"Direct Procurement\", \"cpv_bin\": 0, \"doc_count\": 56344}, {\"procurement_route\": \"Direct Procurement\", \"cpv_bin\": 10000000, \"doc_count\": 61026}, {\"procurement_route\": \"Direct Procurement\", \"cpv_bin\": 20000000, \"doc_count\": 22798}, {\"procurement_route\": \"Direct Procurement\", \"cpv_bin\": 30000000, \"doc_count\": 408915}, {\"procurement_route\": \"Direct Procurement\", \"cpv_bin\": 40000000, \"doc_count\": 295593}, {\"procurement_route\": \"Direct Procurement\", \"cpv_bin\": 50000000, \"doc_count\": 87426}, {\"procurement_route\": \"Direct Procurement\", \"cpv_bin\": 60000000, \"doc_count\": 90188}, {\"procurement_route\": \"Direct Procurement\", \"cpv_bin\": 70000000, \"doc_count\": 325144}, {\"procurement_route\": \"Direct Procurement\", \"cpv_bin\": 80000000, \"doc_count\": 61264}, {\"procurement_route\": \"Direct Procurement\", \"cpv_bin\": 90000000, \"doc_count\": 118533}, {\"procurement_route\": \"Joint Procurement\", \"cpv_bin\": 0, \"doc_count\": 5267}, {\"procurement_route\": \"Joint Procurement\", \"cpv_bin\": 10000000, \"doc_count\": 2777}, {\"procurement_route\": \"Joint Procurement\", \"cpv_bin\": 20000000, \"doc_count\": 923}, {\"procurement_route\": \"Joint Procurement\", \"cpv_bin\": 30000000, \"doc_count\": 13904}, {\"procurement_route\": \"Joint Procurement\", \"cpv_bin\": 40000000, \"doc_count\": 6462}, {\"procurement_route\": \"Joint Procurement\", \"cpv_bin\": 50000000, \"doc_count\": 2901}, {\"procurement_route\": \"Joint Procurement\", \"cpv_bin\": 60000000, \"doc_count\": 5165}, {\"procurement_route\": \"Joint Procurement\", \"cpv_bin\": 70000000, \"doc_count\": 8457}, {\"procurement_route\": \"Joint Procurement\", \"cpv_bin\": 80000000, \"doc_count\": 1182}, {\"procurement_route\": \"Joint Procurement\", \"cpv_bin\": 90000000, \"doc_count\": 2944}]}}, {\"mode\": \"vega-lite\"});\n",
       "</script>"
      ],
      "text/plain": [
       "alt.Chart(...)"
      ]
     },
     "execution_count": 17,
     "metadata": {},
     "output_type": "execute_result"
    }
   ],
   "execution_count": 17
  },
  {
   "metadata": {
    "ExecuteTime": {
     "end_time": "2024-11-05T20:26:55.426279Z",
     "start_time": "2024-11-05T20:26:55.408607Z"
    }
   },
   "cell_type": "code",
   "source": [
    "import json\n",
    "json.loads(chart.to_json())\n"
   ],
   "id": "62c0529a767f2f5e",
   "outputs": [
    {
     "data": {
      "text/plain": [
       "{'$schema': 'https://vega.github.io/schema/vega-lite/v5.20.1.json',\n",
       " 'config': {'view': {'continuousHeight': 300, 'continuousWidth': 300}},\n",
       " 'data': {'name': 'data-cc5e703b9eed67bfbebac43962d603dc'},\n",
       " 'datasets': {'data-cc5e703b9eed67bfbebac43962d603dc': [{'cpv_bin': 0,\n",
       "    'doc_count': 56344,\n",
       "    'procurement_route': 'Direct Procurement'},\n",
       "   {'cpv_bin': 10000000,\n",
       "    'doc_count': 61026,\n",
       "    'procurement_route': 'Direct Procurement'},\n",
       "   {'cpv_bin': 20000000,\n",
       "    'doc_count': 22798,\n",
       "    'procurement_route': 'Direct Procurement'},\n",
       "   {'cpv_bin': 30000000,\n",
       "    'doc_count': 408915,\n",
       "    'procurement_route': 'Direct Procurement'},\n",
       "   {'cpv_bin': 40000000,\n",
       "    'doc_count': 295593,\n",
       "    'procurement_route': 'Direct Procurement'},\n",
       "   {'cpv_bin': 50000000,\n",
       "    'doc_count': 87426,\n",
       "    'procurement_route': 'Direct Procurement'},\n",
       "   {'cpv_bin': 60000000,\n",
       "    'doc_count': 90188,\n",
       "    'procurement_route': 'Direct Procurement'},\n",
       "   {'cpv_bin': 70000000,\n",
       "    'doc_count': 325144,\n",
       "    'procurement_route': 'Direct Procurement'},\n",
       "   {'cpv_bin': 80000000,\n",
       "    'doc_count': 61264,\n",
       "    'procurement_route': 'Direct Procurement'},\n",
       "   {'cpv_bin': 90000000,\n",
       "    'doc_count': 118533,\n",
       "    'procurement_route': 'Direct Procurement'},\n",
       "   {'cpv_bin': 0, 'doc_count': 5267, 'procurement_route': 'Joint Procurement'},\n",
       "   {'cpv_bin': 10000000,\n",
       "    'doc_count': 2777,\n",
       "    'procurement_route': 'Joint Procurement'},\n",
       "   {'cpv_bin': 20000000,\n",
       "    'doc_count': 923,\n",
       "    'procurement_route': 'Joint Procurement'},\n",
       "   {'cpv_bin': 30000000,\n",
       "    'doc_count': 13904,\n",
       "    'procurement_route': 'Joint Procurement'},\n",
       "   {'cpv_bin': 40000000,\n",
       "    'doc_count': 6462,\n",
       "    'procurement_route': 'Joint Procurement'},\n",
       "   {'cpv_bin': 50000000,\n",
       "    'doc_count': 2901,\n",
       "    'procurement_route': 'Joint Procurement'},\n",
       "   {'cpv_bin': 60000000,\n",
       "    'doc_count': 5165,\n",
       "    'procurement_route': 'Joint Procurement'},\n",
       "   {'cpv_bin': 70000000,\n",
       "    'doc_count': 8457,\n",
       "    'procurement_route': 'Joint Procurement'},\n",
       "   {'cpv_bin': 80000000,\n",
       "    'doc_count': 1182,\n",
       "    'procurement_route': 'Joint Procurement'},\n",
       "   {'cpv_bin': 90000000,\n",
       "    'doc_count': 2944,\n",
       "    'procurement_route': 'Joint Procurement'}]},\n",
       " 'encoding': {'row': {'field': 'procurement_route',\n",
       "   'title': 'Procurement Route',\n",
       "   'type': 'nominal'},\n",
       "  'x': {'bin': {'step': 10000000},\n",
       "   'field': 'cpv_bin',\n",
       "   'title': 'CPV Histogram',\n",
       "   'type': 'quantitative'},\n",
       "  'y': {'field': 'density', 'title': 'Density', 'type': 'quantitative'}},\n",
       " 'height': 100,\n",
       " 'mark': {'type': 'area'},\n",
       " 'transform': [{'as': ['cpv_bin', 'density'],\n",
       "   'density': 'cpv_bin',\n",
       "   'groupby': ['procurement_route']}],\n",
       " 'width': 400}"
      ]
     },
     "execution_count": 11,
     "metadata": {},
     "output_type": "execute_result"
    }
   ],
   "execution_count": 11
  },
  {
   "metadata": {
    "ExecuteTime": {
     "end_time": "2024-11-05T21:53:47.115853Z",
     "start_time": "2024-11-05T21:53:47.013234Z"
    }
   },
   "cell_type": "code",
   "source": [
    "import matplotlib.pyplot as plt\n",
    "\n",
    "# Data\n",
    "total_contracts = 1.447  # in millions\n",
    "translated_contracts = 1.32  # in millions\n",
    "untranslated_contracts = total_contracts - translated_contracts\n",
    "\n",
    "# Percentage of translated contracts\n",
    "translated_percentage = (translated_contracts / total_contracts) * 100\n",
    "\n",
    "# Donut plot with navy and dark blue colors\n",
    "sizes = [translated_contracts, untranslated_contracts]\n",
    "labels = [\n",
    "    f'Translated: {translated_contracts:.2f}M ({translated_percentage:.1f}%)',\n",
    "    f'Untranslated: {untranslated_contracts:.2f}M'\n",
    "]\n",
    "colors = ['navy', '#1B263B']  # Navy and dark blue\n",
    "\n",
    "plt.figure(figsize=(6, 6))\n",
    "plt.pie(\n",
    "    sizes, \n",
    "    labels=labels, \n",
    "    colors=colors, \n",
    "    startangle=90, \n",
    "    counterclock=False, \n",
    "    wedgeprops=dict(width=0.3),\n",
    "    autopct=lambda p: f'{p:.1f}%' if p > 0 else ''  # Show percentages within slices\n",
    ")\n",
    "plt.title(\"Translated Contracts\")\n",
    "plt.show()\n"
   ],
   "id": "34217f8f9ced5a31",
   "outputs": [
    {
     "data": {
      "text/plain": [
       "<Figure size 600x600 with 1 Axes>"
      ],
      "image/png": "[encoded data removed]"
     },
     "metadata": {},
     "output_type": "display_data"
    }
   ],
   "execution_count": 17
  },
  {
   "metadata": {
    "ExecuteTime": {
     "end_time": "2024-11-05T23:54:03.264484Z",
     "start_time": "2024-11-05T23:53:51.148617Z"
    }
   },
   "cell_type": "code",
   "source": [
    "df =pd.read_csv('lots_extraction.csv')\n",
    "display(df)"
   ],
   "id": "9f7e0ea9221a1c90",
   "outputs": [
    {
     "data": {
      "text/plain": [
       "          Document ID                                               Lots\n",
       "0       00527365-2019  [{'Lot Number': '-', 'Title': '-', 'Short Desc...\n",
       "1       00527174-2019  [{'Lot Number': '-', 'Title': '-', 'Short Desc...\n",
       "2       00403411-2019  [{'Lot Number': '-', 'Title': '-', 'Short Desc...\n",
       "3       00400461-2019  [{'Lot Number': '8', 'Title': 'Ecodopler cu so...\n",
       "4       00404681-2019  [{'Lot Number': '19', 'Title': 'COMBINATII (CL...\n",
       "...               ...                                                ...\n",
       "182868  00208348-2021  [{'Lot Number': '1', 'Title': 'Combinezoane de...\n",
       "182869  00208112-2021  [{'Lot Number': '1', 'Title': 'Dostawa odczynn...\n",
       "182870  00173159-2021  [{'Lot Number': '1', 'Title': 'Обособена позиц...\n",
       "182871  00173163-2021  [{'Lot Number': '1', 'Title': 'Доставка на лек...\n",
       "182872  00173111-2021  [{'Lot Number': '1', 'Title': 'Pakiet 1', 'Sho...\n",
       "\n",
       "[182873 rows x 2 columns]"
      ],
      "text/html": [
       "<div>\n",
       "<style scoped>\n",
       "    .dataframe tbody tr th:only-of-type {\n",
       "        vertical-align: middle;\n",
       "    }\n",
       "\n",
       "    .dataframe tbody tr th {\n",
       "        vertical-align: top;\n",
       "    }\n",
       "\n",
       "    .dataframe thead th {\n",
       "        text-align: right;\n",
       "    }\n",
       "</style>\n",
       "<table border=\"1\" class=\"dataframe\">\n",
       "  <thead>\n",
       "    <tr style=\"text-align: right;\">\n",
       "      <th></th>\n",
       "      <th>Document ID</th>\n",
       "      <th>Lots</th>\n",
       "    </tr>\n",
       "  </thead>\n",
       "  <tbody>\n",
       "    <tr>\n",
       "      <th>0</th>\n",
       "      <td>00527365-2019</td>\n",
       "      <td>[{'Lot Number': '-', 'Title': '-', 'Short Desc...</td>\n",
       "    </tr>\n",
       "    <tr>\n",
       "      <th>1</th>\n",
       "      <td>00527174-2019</td>\n",
       "      <td>[{'Lot Number': '-', 'Title': '-', 'Short Desc...</td>\n",
       "    </tr>\n",
       "    <tr>\n",
       "      <th>2</th>\n",
       "      <td>00403411-2019</td>\n",
       "      <td>[{'Lot Number': '-', 'Title': '-', 'Short Desc...</td>\n",
       "    </tr>\n",
       "    <tr>\n",
       "      <th>3</th>\n",
       "      <td>00400461-2019</td>\n",
       "      <td>[{'Lot Number': '8', 'Title': 'Ecodopler cu so...</td>\n",
       "    </tr>\n",
       "    <tr>\n",
       "      <th>4</th>\n",
       "      <td>00404681-2019</td>\n",
       "      <td>[{'Lot Number': '19', 'Title': 'COMBINATII (CL...</td>\n",
       "    </tr>\n",
       "    <tr>\n",
       "      <th>...</th>\n",
       "      <td>...</td>\n",
       "      <td>...</td>\n",
       "    </tr>\n",
       "    <tr>\n",
       "      <th>182868</th>\n",
       "      <td>00208348-2021</td>\n",
       "      <td>[{'Lot Number': '1', 'Title': 'Combinezoane de...</td>\n",
       "    </tr>\n",
       "    <tr>\n",
       "      <th>182869</th>\n",
       "      <td>00208112-2021</td>\n",
       "      <td>[{'Lot Number': '1', 'Title': 'Dostawa odczynn...</td>\n",
       "    </tr>\n",
       "    <tr>\n",
       "      <th>182870</th>\n",
       "      <td>00173159-2021</td>\n",
       "      <td>[{'Lot Number': '1', 'Title': 'Обособена позиц...</td>\n",
       "    </tr>\n",
       "    <tr>\n",
       "      <th>182871</th>\n",
       "      <td>00173163-2021</td>\n",
       "      <td>[{'Lot Number': '1', 'Title': 'Доставка на лек...</td>\n",
       "    </tr>\n",
       "    <tr>\n",
       "      <th>182872</th>\n",
       "      <td>00173111-2021</td>\n",
       "      <td>[{'Lot Number': '1', 'Title': 'Pakiet 1', 'Sho...</td>\n",
       "    </tr>\n",
       "  </tbody>\n",
       "</table>\n",
       "<p>182873 rows × 2 columns</p>\n",
       "</div>"
      ]
     },
     "metadata": {},
     "output_type": "display_data"
    }
   ],
   "execution_count": 19
  },
  {
   "metadata": {
    "ExecuteTime": {
     "end_time": "2024-11-06T00:42:32.557717Z",
     "start_time": "2024-11-06T00:28:18.643790Z"
    }
   },
   "cell_type": "code",
   "source": [
    "\n",
    "df =pd.read_csv('lots_extraction.csv')\n",
    "df['Lots'] = df['Lots'].apply(ast.literal_eval)\n",
    "df['Lots'].apply(len).sum()"
   ],
   "id": "92da08980f06c7aa",
   "outputs": [
    {
     "data": {
      "text/plain": [
       "5649058"
      ]
     },
     "execution_count": 24,
     "metadata": {},
     "output_type": "execute_result"
    }
   ],
   "execution_count": 24
  },
  {
   "metadata": {
    "ExecuteTime": {
     "end_time": "2024-11-06T00:44:29.791393Z",
     "start_time": "2024-11-06T00:44:29.784596Z"
    }
   },
   "cell_type": "code",
   "source": "5649058/100*150/3600/24",
   "id": "c832a4fc0bca273a",
   "outputs": [
    {
     "data": {
      "text/plain": [
       "98.07392361111111"
      ]
     },
     "execution_count": 30,
     "metadata": {},
     "output_type": "execute_result"
    }
   ],
   "execution_count": 30
  },
  {
   "metadata": {
    "ExecuteTime": {
     "end_time": "2024-11-06T00:44:18.307545Z",
     "start_time": "2024-11-06T00:44:18.300132Z"
    }
   },
   "cell_type": "code",
   "source": "1000000*150/3600/24",
   "id": "c53b1e0281d9c62",
   "outputs": [
    {
     "data": {
      "text/plain": [
       "1736.111111111111"
      ]
     },
     "execution_count": 29,
     "metadata": {},
     "output_type": "execute_result"
    }
   ],
   "execution_count": 29
  },
  {
   "metadata": {},
   "cell_type": "code",
   "outputs": [],
   "execution_count": null,
   "source": "",
   "id": "225dcffa0443c424"
  }
 ],
 "metadata": {
  "kernelspec": {
   "display_name": "Python 3",
   "language": "python",
   "name": "python3"
  },
  "language_info": {
   "codemirror_mode": {
    "name": "ipython",
    "version": 2
   },
   "file_extension": ".py",
   "mimetype": "text/x-python",
   "name": "python",
   "nbconvert_exporter": "python",
   "pygments_lexer": "ipython2",
   "version": "2.7.6"
  }
 },
 "nbformat": 4,
 "nbformat_minor": 5
}
